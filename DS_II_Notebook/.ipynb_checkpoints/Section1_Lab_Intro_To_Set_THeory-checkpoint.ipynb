{
 "cells": [
  {
   "cell_type": "markdown",
   "metadata": {},
   "source": [
    "# Lab\n",
    "Part 1\n",
    "Create a Set with the given list arr = [9,'g', 'h', 7, 5,'b', 8,'d', 0,'f', 1, 8,'e', 0,'a', 9, 2].\n",
    "\n",
    "Use python functions to create the following subsets from the set arr.\n",
    "\n",
    "2 sets -\n",
    "all_chars: all the charaters from arr\n",
    "\n",
    "all_int: all the integers from arr\n",
    "\n",
    "A set of any 2 characters and all integers from arr, name it \"2char_int_set\"\n",
    "\n",
    "A set of any 2 ints and any 3 characters from arr, name it \"2char_3int_set\"\n",
    "\n",
    "A set named \"random_set\": that includes all objects in arr except 'g', 'd', 7, 3"
   ]
  },
  {
   "cell_type": "code",
   "execution_count": 1,
   "metadata": {},
   "outputs": [],
   "source": [
    "arr = [9,'g', 'h', 7, 5,'b', 8,'d', 0,'f', 1, 8,'e', 0,'a', 9, 2]"
   ]
  },
  {
   "cell_type": "code",
   "execution_count": 2,
   "metadata": {},
   "outputs": [
    {
     "name": "stdout",
     "output_type": "stream",
     "text": [
      "<class 'str'>\n"
     ]
    }
   ],
   "source": [
    "x = ['a']\n",
    "print(type(x[0]))"
   ]
  },
  {
   "cell_type": "code",
   "execution_count": 3,
   "metadata": {},
   "outputs": [],
   "source": [
    "all_chars = set()\n",
    "all_int = set()"
   ]
  },
  {
   "cell_type": "code",
   "execution_count": 4,
   "metadata": {},
   "outputs": [
    {
     "name": "stdout",
     "output_type": "stream",
     "text": [
      "all_chars: {'d', 'g', 'e', 'h', 'b', 'f', 'a'}\n",
      "all_int: {0, 1, 2, 5, 7, 8, 9}\n"
     ]
    }
   ],
   "source": [
    "for x in arr:\n",
    "    if type(x) == str:\n",
    "        all_chars.add(x)\n",
    "    elif type(x) == int:\n",
    "        all_int.add(x)\n",
    "\n",
    "print(\"all_chars:\",all_chars)        \n",
    "print(\"all_int:\", all_int)"
   ]
  },
  {
   "cell_type": "code",
   "execution_count": 5,
   "metadata": {},
   "outputs": [
    {
     "name": "stdout",
     "output_type": "stream",
     "text": [
      "2char_int_set : {0, 1, 2, 5, 7, 8, 9, 'e', 'h'}\n"
     ]
    }
   ],
   "source": [
    "#A set of any 2 characters and all integers from arr, name it \"2char_int_set\"\n",
    "\n",
    "char_2 = {'e','h'}\n",
    "char2_int_set = char_2|all_int\n",
    "print(\"2char_int_set :\",char2_int_set)"
   ]
  },
  {
   "cell_type": "code",
   "execution_count": 6,
   "metadata": {},
   "outputs": [
    {
     "name": "stdout",
     "output_type": "stream",
     "text": [
      "2char_3int_set: {0, 1, 2, 'e', 'h'}\n"
     ]
    }
   ],
   "source": [
    "int_3 = {0,1,2}\n",
    "char2_3int_set = char_2|int_3\n",
    "print(\"2char_3int_set:\",char2_3int_set)"
   ]
  },
  {
   "cell_type": "code",
   "execution_count": 7,
   "metadata": {},
   "outputs": [
    {
     "name": "stdout",
     "output_type": "stream",
     "text": [
      "random_set: {0, 1, 2, 5, 8, 9, 'e', 'h', 'b', 'f', 'a'}\n"
     ]
    }
   ],
   "source": [
    "arr =set(arr)\n",
    "except_set = {'g','d',7,3}\n",
    "random_set = arr - except_set\n",
    "print(\"random_set:\",random_set)"
   ]
  },
  {
   "cell_type": "markdown",
   "metadata": {},
   "source": [
    "#### Part 2\n",
    "\n",
    "```python\n",
    "P = [4,6,12,1,6,7,14,17,5,13,8,9,19,16,19,5,15,15,0,18]\n",
    "S = [5,0,3,11,3,7,9,3,5,2]\n",
    "```\n",
    "\n",
    "* Check if S is the subset of P.\n",
    "* If S is not a subset of P then create a new set with elements of S which also exist in P, using set operations.\n",
    "* For the above sets provide:\n",
    "    * Union of Sets - S $\\cup$ P\n",
    "    * Intersection of Sets - S $\\cap$ P\n",
    "    * Difference of Sets - Both S-P and P-S\n",
    "\n",
    "* (Write in Comments) Assuming that Universal set, 'set_U' consists of the below elements<br>\n",
    "\n",
    "```python\n",
    "set_U = [12, 40, 31, 21, 5, 28, 27, 15, 26, 50, 2, 0, 30, 9, 19, 48, 25, 18, 37, 13, 33, 14, 34, 22, 3, 24, 42, 41, 29, 17, 43, 36, 16, 47, 39, 8, 44, 23, 6, 1, 10, 7, 20, 4, 11, 35, 49, 46, 38, 32, 45].\n",
    "```\n",
    "        \n",
    "<br> Identify the limits (Boundary Values) of set = {set_U - (S$\\cup$P)}\n",
    "    \n",
    "<small><i>Hint: In order to calculate boundary values, treat all sets as ordered intervals of numbers</i></small>"
   ]
  },
  {
   "cell_type": "code",
   "execution_count": 8,
   "metadata": {},
   "outputs": [],
   "source": [
    "P = [4,6,12,1,6,7,14,17,5,13,8,9,19,16,19,5,15,15,0,18]\n",
    "S = [5,0,3,11,3,7,9,3,5,2]"
   ]
  },
  {
   "cell_type": "code",
   "execution_count": 9,
   "metadata": {},
   "outputs": [],
   "source": [
    "P = set(P)\n",
    "S= set(S)"
   ]
  },
  {
   "cell_type": "code",
   "execution_count": 10,
   "metadata": {},
   "outputs": [
    {
     "name": "stdout",
     "output_type": "stream",
     "text": [
      "Check if S is the subset of P: False\n"
     ]
    }
   ],
   "source": [
    "print(\"Check if S is the subset of P:\" ,S.issubset(P))"
   ]
  },
  {
   "cell_type": "code",
   "execution_count": 11,
   "metadata": {},
   "outputs": [
    {
     "name": "stdout",
     "output_type": "stream",
     "text": [
      "If S is not a subset of P then create a new set with elements of S which also exist in P, using set operations: {0, 9, 5, 7}\n"
     ]
    }
   ],
   "source": [
    "print(\"If S is not a subset of P then create a new set with elements of S which also exist in P, using set operations:\",S&P)"
   ]
  },
  {
   "cell_type": "code",
   "execution_count": 12,
   "metadata": {},
   "outputs": [
    {
     "name": "stdout",
     "output_type": "stream",
     "text": [
      "Union of sets S and P: {0, 1, 2, 3, 4, 5, 6, 7, 8, 9, 11, 12, 13, 14, 15, 16, 17, 18, 19}\n"
     ]
    }
   ],
   "source": [
    "print(\"Union of sets S and P:\",S|P)"
   ]
  },
  {
   "cell_type": "code",
   "execution_count": 13,
   "metadata": {},
   "outputs": [
    {
     "name": "stdout",
     "output_type": "stream",
     "text": [
      "intersection of set S and P: {0, 9, 5, 7}\n"
     ]
    }
   ],
   "source": [
    "print(\"intersection of set S and P:\",S&P)"
   ]
  },
  {
   "cell_type": "code",
   "execution_count": 14,
   "metadata": {},
   "outputs": [
    {
     "name": "stdout",
     "output_type": "stream",
     "text": [
      "Difference of sets S and P: S-P as {11, 2, 3}  and P-S as {1, 4, 6, 8, 12, 13, 14, 15, 16, 17, 18, 19}\n"
     ]
    }
   ],
   "source": [
    "print(\"Difference of sets S and P: S-P as\",S-P,\" and P-S as\",P-S )"
   ]
  },
  {
   "cell_type": "code",
   "execution_count": 15,
   "metadata": {},
   "outputs": [],
   "source": [
    "set_U = [12, 40, 31, 21, 5, 28, 27, 15, 26, 50, 2, 0, 30, 9, 19, 48, 25, 18, 37, 13, 33, 14, 34, 22, 3, 24, 42, 41, 29, 17, 43, 36, 16, 47, 39, 8, 44, 23, 6, 1, 10, 7, 20, 4, 11, 35, 49, 46, 38, 32, 45]\n",
    "set_U = set(set_U)"
   ]
  },
  {
   "cell_type": "code",
   "execution_count": 16,
   "metadata": {},
   "outputs": [
    {
     "data": {
      "text/plain": [
       "{10,\n",
       " 20,\n",
       " 21,\n",
       " 22,\n",
       " 23,\n",
       " 24,\n",
       " 25,\n",
       " 26,\n",
       " 27,\n",
       " 28,\n",
       " 29,\n",
       " 30,\n",
       " 31,\n",
       " 32,\n",
       " 33,\n",
       " 34,\n",
       " 35,\n",
       " 36,\n",
       " 37,\n",
       " 38,\n",
       " 39,\n",
       " 40,\n",
       " 41,\n",
       " 42,\n",
       " 43,\n",
       " 44,\n",
       " 45,\n",
       " 46,\n",
       " 47,\n",
       " 48,\n",
       " 49,\n",
       " 50}"
      ]
     },
     "execution_count": 16,
     "metadata": {},
     "output_type": "execute_result"
    }
   ],
   "source": [
    "set_U - (S|P)"
   ]
  },
  {
   "cell_type": "code",
   "execution_count": 17,
   "metadata": {},
   "outputs": [
    {
     "name": "stdout",
     "output_type": "stream",
     "text": [
      "Identify the limits (Boundary Values) of set = {set_U - (S ∪ P)}:\n"
     ]
    }
   ],
   "source": [
    "print(\"Identify the limits (Boundary Values) of set = {set_U - (S ∪ P)}:\")"
   ]
  },
  {
   "cell_type": "code",
   "execution_count": null,
   "metadata": {},
   "outputs": [],
   "source": []
  }
 ],
 "metadata": {
  "kernelspec": {
   "display_name": "Python 3",
   "language": "python",
   "name": "python3"
  },
  "language_info": {
   "codemirror_mode": {
    "name": "ipython",
    "version": 3
   },
   "file_extension": ".py",
   "mimetype": "text/x-python",
   "name": "python",
   "nbconvert_exporter": "python",
   "pygments_lexer": "ipython3",
   "version": "3.7.6"
  }
 },
 "nbformat": 4,
 "nbformat_minor": 4
}
