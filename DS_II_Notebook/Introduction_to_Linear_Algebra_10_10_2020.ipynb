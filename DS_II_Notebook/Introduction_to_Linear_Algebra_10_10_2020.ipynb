{
 "cells": [
  {
   "cell_type": "code",
   "execution_count": 5,
   "metadata": {},
   "outputs": [],
   "source": [
    "import numpy as np"
   ]
  },
  {
   "cell_type": "code",
   "execution_count": 6,
   "metadata": {},
   "outputs": [
    {
     "data": {
      "text/plain": [
       "25"
      ]
     },
     "execution_count": 6,
     "metadata": {},
     "output_type": "execute_result"
    }
   ],
   "source": [
    "np.power(5,2)"
   ]
  },
  {
   "cell_type": "markdown",
   "metadata": {},
   "source": [
    "## Exercise\n",
    "Initialize the following matrices\n",
    "\n",
    "A matrix with entries of integers from 1 through 12, with the dimensions 3x4.\n",
    "\n",
    "Define a scalar_mat() function which takes in 2 elements - 'n' which determines the nxn dimensions of the scalar matrix and 'a' the entry which fills all positions in the primary diagonal. Use this function to create a 4x4 scalar matrix with diagonal elements as 256.\n",
    "\n",
    "A 5x5 identity matrix."
   ]
  },
  {
   "cell_type": "code",
   "execution_count": 10,
   "metadata": {},
   "outputs": [
    {
     "data": {
      "text/plain": [
       "array([[ 1,  2,  3,  4],\n",
       "       [ 5,  6,  7,  8],\n",
       "       [ 9, 10, 11, 12]])"
      ]
     },
     "execution_count": 10,
     "metadata": {},
     "output_type": "execute_result"
    }
   ],
   "source": [
    "np.reshape(np.arange(1,13),(3,4))"
   ]
  },
  {
   "cell_type": "code",
   "execution_count": 20,
   "metadata": {},
   "outputs": [
    {
     "data": {
      "text/plain": [
       "array([[256.,   0.,   0.,   0.],\n",
       "       [  0., 256.,   0.,   0.],\n",
       "       [  0.,   0., 256.,   0.],\n",
       "       [  0.,   0.,   0., 256.]])"
      ]
     },
     "execution_count": 20,
     "metadata": {},
     "output_type": "execute_result"
    }
   ],
   "source": [
    "def scalar_mat(n,a):\n",
    "    scalarmatrix = np.zeros((n,n))\n",
    "    for i in range(0,n):\n",
    "        scalarmatrix[i][i]=a\n",
    "    return scalarmatrix\n",
    "    \n",
    "scalar_mat(4,256)    "
   ]
  },
  {
   "cell_type": "code",
   "execution_count": 17,
   "metadata": {},
   "outputs": [],
   "source": [
    "def scalar_mat(n,a):\n",
    "    scalar_matrix = np.zeros((n,n))\n",
    "    for i in range(0,n):\n",
    "        scalar_matrix[i][i]=a\n",
    "    return scalar_matrix"
   ]
  },
  {
   "cell_type": "code",
   "execution_count": 18,
   "metadata": {},
   "outputs": [
    {
     "data": {
      "text/plain": [
       "array([[256.,   0.,   0.,   0.],\n",
       "       [  0., 256.,   0.,   0.],\n",
       "       [  0.,   0., 256.,   0.],\n",
       "       [  0.,   0.,   0., 256.]])"
      ]
     },
     "execution_count": 18,
     "metadata": {},
     "output_type": "execute_result"
    }
   ],
   "source": [
    "scalar_mat(4,256)"
   ]
  },
  {
   "cell_type": "code",
   "execution_count": 22,
   "metadata": {},
   "outputs": [
    {
     "data": {
      "text/plain": [
       "array([[1., 0., 0., 0., 0.],\n",
       "       [0., 1., 0., 0., 0.],\n",
       "       [0., 0., 1., 0., 0.],\n",
       "       [0., 0., 0., 1., 0.],\n",
       "       [0., 0., 0., 0., 1.]])"
      ]
     },
     "execution_count": 22,
     "metadata": {},
     "output_type": "execute_result"
    }
   ],
   "source": [
    "np.eye(5,5)"
   ]
  },
  {
   "cell_type": "code",
   "execution_count": null,
   "metadata": {},
   "outputs": [],
   "source": []
  },
  {
   "cell_type": "raw",
   "metadata": {},
   "source": [
    "# Perform addition, subtraction and multiplication operations on the given matrices. Store the result in 3 variables - addition, subtraction and multiplication and print them out.\n",
    "a = np.array([[1,2],[3,4]])\n",
    "b = np.array([[1,2],[2,1]])\n",
    "\n",
    "print(a)\n",
    "print(b)\n"
   ]
  },
  {
   "cell_type": "code",
   "execution_count": 24,
   "metadata": {},
   "outputs": [
    {
     "name": "stdout",
     "output_type": "stream",
     "text": [
      "[[2 4]\n",
      " [5 5]]\n"
     ]
    }
   ],
   "source": [
    "Addition = a+b\n",
    "print(Addition)"
   ]
  },
  {
   "cell_type": "code",
   "execution_count": 28,
   "metadata": {},
   "outputs": [
    {
     "name": "stdout",
     "output_type": "stream",
     "text": [
      "[[0 0]\n",
      " [1 3]]\n"
     ]
    }
   ],
   "source": [
    "Substraction = a-b\n",
    "print(Substraction)"
   ]
  },
  {
   "cell_type": "code",
   "execution_count": 34,
   "metadata": {},
   "outputs": [
    {
     "name": "stdout",
     "output_type": "stream",
     "text": [
      "[[1 4]\n",
      " [6 4]]\n"
     ]
    }
   ],
   "source": [
    "multiplication = a*b\n",
    "print(multiplication)"
   ]
  },
  {
   "cell_type": "code",
   "execution_count": 35,
   "metadata": {},
   "outputs": [
    {
     "name": "stdout",
     "output_type": "stream",
     "text": [
      "[[ 8 15 30]\n",
      " [43  2  9]\n",
      " [11 25 62]]\n"
     ]
    }
   ],
   "source": [
    "#transpose of a matrix\n",
    "\n",
    "A = np.array([[8,15,30],[43,2,9],[11,25,62]])\n",
    "print(A)"
   ]
  },
  {
   "cell_type": "code",
   "execution_count": 36,
   "metadata": {},
   "outputs": [
    {
     "name": "stdout",
     "output_type": "stream",
     "text": [
      "[[ 8 43 11]\n",
      " [15  2 25]\n",
      " [30  9 62]]\n"
     ]
    }
   ],
   "source": [
    "AT = np.transpose(A)\n",
    "print(AT)"
   ]
  },
  {
   "cell_type": "code",
   "execution_count": 40,
   "metadata": {},
   "outputs": [
    {
     "data": {
      "text/plain": [
       "-7723.0000000000055"
      ]
     },
     "execution_count": 40,
     "metadata": {},
     "output_type": "execute_result"
    }
   ],
   "source": [
    "# to calculate the determinant of the above array\n",
    "\n",
    "np.linalg.det(AT)"
   ]
  },
  {
   "cell_type": "code",
   "execution_count": 41,
   "metadata": {},
   "outputs": [
    {
     "data": {
      "text/plain": [
       "array([[ 0.01307782,  0.33238379, -0.13634598],\n",
       "       [ 0.02330701, -0.02149424,  0.00453192],\n",
       "       [-0.00971125, -0.15771073,  0.08144503]])"
      ]
     },
     "execution_count": 41,
     "metadata": {},
     "output_type": "execute_result"
    }
   ],
   "source": [
    "# inverse of a matrix\n",
    "np.linalg.inv(AT)"
   ]
  },
  {
   "cell_type": "code",
   "execution_count": null,
   "metadata": {},
   "outputs": [],
   "source": []
  }
 ],
 "metadata": {
  "kernelspec": {
   "display_name": "Python 3",
   "language": "python",
   "name": "python3"
  },
  "language_info": {
   "codemirror_mode": {
    "name": "ipython",
    "version": 3
   },
   "file_extension": ".py",
   "mimetype": "text/x-python",
   "name": "python",
   "nbconvert_exporter": "python",
   "pygments_lexer": "ipython3",
   "version": "3.7.6"
  }
 },
 "nbformat": 4,
 "nbformat_minor": 4
}
