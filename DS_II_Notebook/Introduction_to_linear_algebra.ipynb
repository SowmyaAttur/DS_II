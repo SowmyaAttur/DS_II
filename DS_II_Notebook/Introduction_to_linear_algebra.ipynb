{
 "cells": [
  {
   "cell_type": "markdown",
   "metadata": {},
   "source": [
    "## solving equations in python\n",
    "\n",
    "3x-9y=-42\n",
    "\n",
    "2x+4y=2\n",
    "\n"
   ]
  },
  {
   "cell_type": "code",
   "execution_count": 1,
   "metadata": {},
   "outputs": [],
   "source": [
    "import numpy as np"
   ]
  },
  {
   "cell_type": "code",
   "execution_count": 3,
   "metadata": {},
   "outputs": [
    {
     "name": "stdout",
     "output_type": "stream",
     "text": [
      "[[ 3 -9]\n",
      " [ 2  4]]\n"
     ]
    }
   ],
   "source": [
    "A= np.array([[3 ,-9],[2,4]])\n",
    "print(A)"
   ]
  },
  {
   "cell_type": "code",
   "execution_count": 4,
   "metadata": {},
   "outputs": [
    {
     "name": "stdout",
     "output_type": "stream",
     "text": [
      "[-42   2]\n"
     ]
    }
   ],
   "source": [
    "B =np.array([-42,2])\n",
    "print(B)"
   ]
  },
  {
   "cell_type": "code",
   "execution_count": 5,
   "metadata": {},
   "outputs": [
    {
     "name": "stdout",
     "output_type": "stream",
     "text": [
      "[-5.  3.]\n"
     ]
    }
   ],
   "source": [
    "z= np.linalg.solve(A,B)\n",
    "print(z)"
   ]
  },
  {
   "cell_type": "markdown",
   "metadata": {},
   "source": [
    "\n",
    "## Solve the below equation\n",
    "x-2y-Z = -6\n",
    "\n",
    "2x+2y-z = 1\n",
    "\n",
    "-x-y+2z = 1"
   ]
  },
  {
   "cell_type": "code",
   "execution_count": 6,
   "metadata": {},
   "outputs": [
    {
     "name": "stdout",
     "output_type": "stream",
     "text": [
      "[[ 1 -2 -1]\n",
      " [ 2  2 -1]\n",
      " [-1 -1  2]]\n"
     ]
    }
   ],
   "source": [
    "C =np.array([[1,-2,-1],[2,2,-1],[-1,-1,2]])\n",
    "print(C)"
   ]
  },
  {
   "cell_type": "code",
   "execution_count": 15,
   "metadata": {},
   "outputs": [
    {
     "name": "stdout",
     "output_type": "stream",
     "text": [
      "[6 1 1]\n"
     ]
    }
   ],
   "source": [
    "d = np.array([6,1,1])\n",
    "print(d)"
   ]
  },
  {
   "cell_type": "code",
   "execution_count": 11,
   "metadata": {},
   "outputs": [
    {
     "name": "stdout",
     "output_type": "stream",
     "text": [
      "[ 3. -2.  1.]\n"
     ]
    }
   ],
   "source": [
    "z = np.linalg.solve(C,d)\n",
    "print(z)"
   ]
  },
  {
   "cell_type": "code",
   "execution_count": 12,
   "metadata": {},
   "outputs": [
    {
     "data": {
      "text/html": [
       "        <script type=\"text/javascript\">\n",
       "        window.PlotlyConfig = {MathJaxConfig: 'local'};\n",
       "        if (window.MathJax) {MathJax.Hub.Config({SVG: {font: \"STIX-Web\"}});}\n",
       "        if (typeof require !== 'undefined') {\n",
       "        require.undef(\"plotly\");\n",
       "        requirejs.config({\n",
       "            paths: {\n",
       "                'plotly': ['https://cdn.plot.ly/plotly-latest.min']\n",
       "            }\n",
       "        });\n",
       "        require(['plotly'], function(Plotly) {\n",
       "            window._Plotly = Plotly;\n",
       "        });\n",
       "        }\n",
       "        </script>\n",
       "        "
      ]
     },
     "metadata": {},
     "output_type": "display_data"
    }
   ],
   "source": [
    "import numpy as np \n",
    "from scipy.spatial import distance\n",
    "\n",
    "from ipywidgets import interact, interactive, fixed, interact_manual\n",
    "import ipywidgets as widgets\n",
    " \n",
    "from plotly.offline import download_plotlyjs, init_notebook_mode, plot, iplot\n",
    "from plotly import graph_objs as go\n",
    "init_notebook_mode(connected=True)\n",
    "import numpy as np\n",
    "\n",
    "import random\n",
    "\n",
    "from IPython.display import display, Math\n",
    "\n",
    "from bokeh.io import show, output_notebook, reset_output\n",
    "from bokeh.plotting import figure, show\n",
    "from scipy.stats import norm \n",
    "from bokeh import plotting as pl\n",
    "from bokeh.models import HoverTool, Arrow, OpenHead, NormalHead, VeeHead, Span, ColumnDataSource, PointDrawTool, TableColumn,  DataTable\n"
   ]
  },
  {
   "cell_type": "code",
   "execution_count": 17,
   "metadata": {},
   "outputs": [
    {
     "name": "stdout",
     "output_type": "stream",
     "text": [
      "dot product value for is 11 \n",
      "We swap the vectors fromt their positions, then the dot product is 11\n"
     ]
    }
   ],
   "source": [
    "# Dot product\n",
    "\n",
    "dot_product = np.dot([1,2],[3,4])\n",
    "print(\"dot product value for is {} \" .format(dot_product))\n",
    "\n",
    "reverse_dot_product = np.dot([3,4], [1,2])\n",
    "print(\"We swap the vectors fromt their positions, then the dot product is {}\" .format(reverse_dot_product))"
   ]
  },
  {
   "cell_type": "code",
   "execution_count": 19,
   "metadata": {},
   "outputs": [
    {
     "data": {
      "application/vnd.jupyter.widget-view+json": {
       "model_id": "4eac57dff5f54e6a9098e03a3bd56720",
       "version_major": 2,
       "version_minor": 0
      },
      "text/plain": [
       "interactive(children=(FloatSlider(value=0.0, description='vec_1_ort', max=1.57, step=0.01), FloatSlider(value=…"
      ]
     },
     "metadata": {},
     "output_type": "display_data"
    },
    {
     "data": {
      "text/plain": [
       "<function __main__.vec_plot(vec_1_ort, vec_2_ort)>"
      ]
     },
     "execution_count": 19,
     "metadata": {},
     "output_type": "execute_result"
    }
   ],
   "source": [
    "# vector \n",
    "tools_to_show= 'box_zoom,pan,save,hover,reset,tap,wheel_zoom'        \n",
    "\n",
    "\n",
    "# go by vector orientation \n",
    "\n",
    "def vec_plot(vec_1_ort,vec_2_ort):\n",
    "    vec_1 = [0,6]\n",
    "    vec_2 =[8,0]\n",
    "\n",
    "    vec_2_ort = - vec_2_ort\n",
    "    vec_1_x = vec_1[0]*np.cos(vec_1_ort)  + vec_1[1]*np.sin(vec_1_ort) \n",
    "    vec_1_y = -vec_1[0]*np.sin(vec_1_ort) +vec_1[1]*np.cos(vec_1_ort)\n",
    "    \n",
    "    \n",
    "    vec_2_x = vec_2[0]*np.cos(vec_2_ort)  + vec_2[1]*np.sin(vec_2_ort) \n",
    "    vec_2_y = -vec_2[0]*np.sin(vec_2_ort) +vec_2[1]*np.cos(vec_2_ort)\n",
    "    \n",
    "    denom = (np.linalg.norm([vec_1_x, vec_1_y]) *np.linalg.norm([vec_2_x, vec_2_y]))\n",
    "    numer = np.dot([vec_1_x,vec_1_y ],[vec_2_x,vec_2_y ] )\n",
    "    angle_between  = np.rad2deg( np.arccos(numer/ denom))\n",
    "    dot_product_value = numer\n",
    "    \n",
    "    \n",
    "    fig = pl.figure(x_range =[0,10],\n",
    "                    y_range =[0,10], \n",
    "                    plot_height =400, \n",
    "                    plot_width= 400, \n",
    "                   tools= tools_to_show,\n",
    "                   x_axis_label = \"x axis\",\n",
    "                    y_axis_label = \"y axis\"\n",
    "                   )\n",
    "    \n",
    "    \n",
    "    \n",
    "    fig.add_layout(Arrow(end=NormalHead(fill_color=\"black\"),\n",
    "                       x_start=0,\n",
    "                       y_start=0,\n",
    "                       x_end=vec_1_x,\n",
    "                       y_end=vec_1_y))\n",
    "    \n",
    "    fig.add_layout(Arrow(end=NormalHead(fill_color=\"black\"),\n",
    "                       x_start=0,\n",
    "                       y_start=0,\n",
    "                       x_end=vec_2_x,\n",
    "                       y_end=vec_2_y))\n",
    "    \n",
    "\n",
    "    \n",
    "    fig.circle(vec_1_x,vec_1_y,size = 12, color= \"red\")\n",
    "    fig.circle(vec_2_x,vec_2_y,size = 12, color= \"green\")\n",
    "    \n",
    "    fig.text(x=6.0, y=8.0, text=[\"Angle between  \\n =  \" + str(np.round(angle_between,2)) ])\n",
    "    fig.text(x=2.0, y=8.0, text=[\"Dot product \\n value =\" + str(np.round(dot_product_value,2))])\n",
    "#     fig.text(x=(8-x)/2+ x, y=-(2-y)/2+(y/2), text=[\"R\"])\n",
    "    \n",
    "    hover = fig.select(dict(type=HoverTool))    \n",
    "    hover.tooltips = [(\"xvalue\", \"$x\"), (\"yvalue\", \"$y\")]\n",
    "    show(fig)\n",
    "    return \n",
    "\n",
    "interact(vec_plot, \n",
    "                   vec_1_ort = widgets.FloatSlider(value = 0, min= 0, max =1.57, step =0.01 ),\n",
    "        \n",
    "                     vec_2_ort = widgets.FloatSlider(value = 0, min= 0, max =1.57, step =0.01 ), \n",
    "        \n",
    "        )"
   ]
  },
  {
   "cell_type": "code",
   "execution_count": 20,
   "metadata": {},
   "outputs": [
    {
     "name": "stdout",
     "output_type": "stream",
     "text": [
      "The new vector from the cross product will be vector_3  = [ 69   9 -33]\n"
     ]
    }
   ],
   "source": [
    "# cross product example \n",
    "\n",
    "vector_1 = [2, 3, 5]\n",
    "vector_2 = [5,-9, 8]\n",
    "\n",
    "cross_product_value = np.cross(vector_1, vector_2)\n",
    "\n",
    "print(\"The new vector from the cross product will be vector_3  = {}\" .format(cross_product_value))\n"
   ]
  },
  {
   "cell_type": "code",
   "execution_count": null,
   "metadata": {},
   "outputs": [],
   "source": []
  }
 ],
 "metadata": {
  "kernelspec": {
   "display_name": "Python 3",
   "language": "python",
   "name": "python3"
  },
  "language_info": {
   "codemirror_mode": {
    "name": "ipython",
    "version": 3
   },
   "file_extension": ".py",
   "mimetype": "text/x-python",
   "name": "python",
   "nbconvert_exporter": "python",
   "pygments_lexer": "ipython3",
   "version": "3.7.6"
  }
 },
 "nbformat": 4,
 "nbformat_minor": 4
}
