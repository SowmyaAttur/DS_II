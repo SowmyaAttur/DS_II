{
 "cells": [
  {
   "cell_type": "code",
   "execution_count": 12,
   "metadata": {},
   "outputs": [],
   "source": [
    "event_1 = {\"matt\",\"trey\",\"yez\",\"tom\",\"abby\",\"dash\"}\n",
    "event_2 = {\"abby\",\"cat\",\"selen\",\"trey\",\"van\",\"selez\",\"dash\",\"tariq\"}\n",
    "event_3 = {\"van\",\"cat\",\"selen\",\"abby\",\"alisha\"}\n"
   ]
  },
  {
   "cell_type": "code",
   "execution_count": 13,
   "metadata": {},
   "outputs": [
    {
     "name": "stdout",
     "output_type": "stream",
     "text": [
      "people who attended both event_1 and event_2 :  {'abby', 'trey', 'dash'}\n"
     ]
    }
   ],
   "source": [
    "print (\"people who attended both event_1 and event_2 : \" ,event_1&event_2)"
   ]
  },
  {
   "cell_type": "code",
   "execution_count": 14,
   "metadata": {},
   "outputs": [
    {
     "name": "stdout",
     "output_type": "stream",
     "text": [
      "people who attend either event_1 or event_2 but not event_3 {'yez', 'selez', 'trey', 'dash', 'tariq', 'matt', 'tom'}\n"
     ]
    }
   ],
   "source": [
    "print(\"people who attend either event_1 or event_2 but not event_3\",(event_1|event_2 )-event_3)"
   ]
  },
  {
   "cell_type": "code",
   "execution_count": 15,
   "metadata": {},
   "outputs": [
    {
     "name": "stdout",
     "output_type": "stream",
     "text": [
      "people who attend either event_1 and event_2 but not event_3 {'trey', 'dash'}\n"
     ]
    }
   ],
   "source": [
    "print(\"people who attend either event_1 and event_2 but not event_3\",(event_1&event_2 )-event_3)"
   ]
  },
  {
   "cell_type": "markdown",
   "metadata": {},
   "source": [
    "Question2:{x|x<3} represents none of the answer\n",
    "\n",
    "Question3: if i combine set {x|x<3 } and Set {x|x>=-10} then the answer is \n",
    "\n",
    "set3 {-10,-9,-8,-7,-6,-5,-4,-3,-2,-1,0,1,2}\n",
    "\n"
   ]
  },
  {
   "cell_type": "code",
   "execution_count": null,
   "metadata": {},
   "outputs": [],
   "source": []
  }
 ],
 "metadata": {
  "kernelspec": {
   "display_name": "Python 3",
   "language": "python",
   "name": "python3"
  },
  "language_info": {
   "codemirror_mode": {
    "name": "ipython",
    "version": 3
   },
   "file_extension": ".py",
   "mimetype": "text/x-python",
   "name": "python",
   "nbconvert_exporter": "python",
   "pygments_lexer": "ipython3",
   "version": "3.7.6"
  }
 },
 "nbformat": 4,
 "nbformat_minor": 4
}
